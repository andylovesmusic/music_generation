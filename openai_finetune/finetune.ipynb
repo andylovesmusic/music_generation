{
 "cells": [
  {
   "cell_type": "code",
   "execution_count": null,
   "id": "5cdefe42",
   "metadata": {},
   "outputs": [],
   "source": [
    "prompts = []\n",
    "num_prompts = 0\n",
    "import json\n",
    "import glob\n",
    "import os\n",
    "import sys\n",
    "for f in glob.glob('../dataset_prepare/abc_dataset/*.abc'):\n",
    "    is_header = True\n",
    "    prompt_string = ''\n",
    "    completion_string = ''\n",
    "    showed_title = False\n",
    "    song_file = open(f, 'r')\n",
    "    lines = song_file.readlines()\n",
    "    for line in lines:\n",
    "        line = line.replace(\"$\", \"\")\n",
    "        line = line.replace(\"dc=\", \"\")\n",
    "        line = line.strip()\n",
    "    \n",
    "        if line.startswith(\"V:\"):\n",
    "            is_header = False\n",
    "    \n",
    "        if is_header:\n",
    "            if line.startswith(\"X:\") or line.startswith(\"C:\"):\n",
    "                prompt_string += line+\"\\n\"\n",
    "    \n",
    "            if line.startswith(\"T:\") and not showed_title:\n",
    "                prompt_string += line+\"\\n\"\n",
    "                showed_title = True\n",
    "        else:\n",
    "            if not line.startswith(\"w:\") and not line.startswith(\"V:\"):\n",
    "    \n",
    "            # remove end of line comments\n",
    "            index = line.rfind('%')\n",
    "            if index > 0:\n",
    "                line = line[:index].strip()\n",
    "    \n",
    "            # remove inline comments\n",
    "            parts = line.split('\"')\n",
    "            newline = \"\"\n",
    "            for i, p in enumerate(parts):\n",
    "                if i%2 == 0:\n",
    "                    newline += p\n",
    "                elif not p.startswith(\"^\"):\n",
    "                    newline += '\"' + p + '\"'\n",
    "            line = ' '.join(newline.split())\n",
    "    \n",
    "            completion_string += line+\"\\n\"\n",
    "    \n",
    "        if line.startswith(\"V:\"):\n",
    "            is_header = False\n",
    "  \n",
    "    prompt_string = prompt_string.replace(\":\",\": \")\n",
    "    prompt_string = prompt_string.replace('\"', \"`\")\n",
    "    prompt_string = prompt_string.replace(\"\\n\",\" $ \")\n",
    "  \n",
    "    completion_string = completion_string.replace('\"', \"`\")\n",
    "    completion_string = completion_string.strip().replace(\"\\n\",\" $ \")\n",
    "  \n",
    "    sample = {\n",
    "        \"prompt\": prompt_string + '<song>',\n",
    "        \"completion\": ' ' + completion_string + '$ <end>'\n",
    "    }\n",
    "    \n",
    "    if prompt_string not in prompts:\n",
    "        prompts.append(prompt_string)\n",
    "        num_prompts += 1\n",
    "  \n",
    "    with open('openai_train.jsonl', 'a') as of:\n",
    "        json.dump(sample, of)\n",
    "        of.write('\\n')"
   ]
  },
  {
   "cell_type": "code",
   "execution_count": null,
   "id": "668d640b",
   "metadata": {},
   "outputs": [],
   "source": [
    "!openai tools fine_tunes.prepare_data -f openai_train.jsonl"
   ]
  },
  {
   "cell_type": "code",
   "execution_count": null,
   "id": "8a0a9391",
   "metadata": {},
   "outputs": [],
   "source": [
    "# replace OPENAI_API_KEY to your own API key\n",
    "!export OPENAI_API_KEY=\"OPENAI_API_KEY\"; openai api fine_tunes.create -t openai_train.jsonl --model curie --n_epochs 5"
   ]
  }
 ],
 "metadata": {
  "kernelspec": {
   "display_name": "Python 3 (ipykernel)",
   "language": "python",
   "name": "python3"
  },
  "language_info": {
   "codemirror_mode": {
    "name": "ipython",
    "version": 3
   },
   "file_extension": ".py",
   "mimetype": "text/x-python",
   "name": "python",
   "nbconvert_exporter": "python",
   "pygments_lexer": "ipython3",
   "version": "3.9.12"
  }
 },
 "nbformat": 4,
 "nbformat_minor": 5
}

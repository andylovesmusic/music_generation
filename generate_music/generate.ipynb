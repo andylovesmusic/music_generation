{
 "cells": [
  {
   "cell_type": "code",
   "execution_count": null,
   "id": "7afe6cc8",
   "metadata": {},
   "outputs": [],
   "source": [
    "import openai\n",
    "import music21\n",
    "import numpy as np\n",
    "from collections.abc import Iterable\n",
    "import numpy as np\n",
    "import openai\n",
    "\n",
    "band_name = \"Tom and Jerry\"\n",
    "song_name = \"Happy Life\"\n",
    "prompt = \"X: 1 $ T: \" + song_name + \" $ C: \" + band_name + \" $ <song>\"\n",
    "print(prompt)\n",
    "print()\n",
    "\n",
    "openai.api_key = \"\" #use your OPENAI_API_KEY\n",
    "\n",
    "songs_with_scores = []\n",
    "score_arr = np.empty((0), np.float32)\n",
    "\n",
    "response = openai.Completion.create(\n",
    "    model=\"curie:ft-personal-2022-11-16-03-25-21\",\n",
    "    prompt=prompt,\n",
    "    stop = \" |$ <end>\",\n",
    "    temperature=0.7,\n",
    "    top_p=1.0,\n",
    "    frequency_penalty=0.2,\n",
    "    presence_penalty=0,\n",
    "    max_tokens = 1000)\n",
    "\n",
    "print(response)\n",
    "\n",
    "formatted_prompt = \"X: 1 $ T: \" + song_name + \" $ C: \" + band_name + \" $ L: 1/4 $ Q: 1/4=150 $ M: 4/4 $ K: C $ V: 1 treble\"\n",
    "formatted_prompt = formatted_prompt.replace(\" $ \", \"\\n\")\n",
    "formatted_prompt = formatted_prompt.replace(\"\", \"\").strip()\n",
    "\n",
    "formatted_song = response[\"choices\"][0][\"text\"].strip()\n",
    "formatted_song = formatted_song.replace('`', '\"')\n",
    "formatted_song = formatted_song.replace(\" $ \", \"\\n\")\n",
    "new_song = formatted_prompt+ \"\\n\" + formatted_song\n",
    "print(new_song)"
   ]
  },
  {
   "cell_type": "code",
   "execution_count": null,
   "id": "2958a919",
   "metadata": {},
   "outputs": [],
   "source": [
    "!mkdir -p generate"
   ]
  },
  {
   "cell_type": "code",
   "execution_count": null,
   "id": "ac8d9b01",
   "metadata": {},
   "outputs": [],
   "source": [
    "songn = 'sample10'\n",
    "with open(\"generate/{}.abc\".format(songn), \"w\") as new_song_file:\n",
    "    new_song_file.write(new_song)\n",
    "\n",
    "song = music21.converter.parse(\"generate/{}.abc\".format(songn))\n",
    "song.write('xml', fp='generated/{}.xml'.format(songn))\n",
    "xml = music21.converter.parse('generated/{}.xml'.format(songn))\n",
    "xml.write('midi', \"generated/{}.midi\".format(songn))\n",
    "xml.show('midi')"
   ]
  }
 ],
 "metadata": {
  "kernelspec": {
   "display_name": "Python 3 (ipykernel)",
   "language": "python",
   "name": "python3"
  },
  "language_info": {
   "codemirror_mode": {
    "name": "ipython",
    "version": 3
   },
   "file_extension": ".py",
   "mimetype": "text/x-python",
   "name": "python",
   "nbconvert_exporter": "python",
   "pygments_lexer": "ipython3",
   "version": "3.9.12"
  }
 },
 "nbformat": 4,
 "nbformat_minor": 5
}
